{
 "cells": [
  {
   "cell_type": "markdown",
   "metadata": {},
   "source": [
    "# Deleting existing files\n",
    "\n",
    "If you want to clear out the existing images and start over, run this!\n",
    "\n",
    "The images subdirectory has a number of folders. We can look through them and delete all png files, and all csv files.\n",
    "\n",
    "Then delete everything in the output directory, and the metadata directory."
   ]
  },
  {
   "cell_type": "code",
   "execution_count": 2,
   "metadata": {},
   "outputs": [],
   "source": [
    "import os\n",
    "import glob\n",
    "\n",
    "# Define directories\n",
    "images_dir = 'images'\n",
    "output_dir = 'output'\n",
    "metadata_dir = 'metadata'\n",
    "\n",
    "# Delete all .png, .csv, and .txt files in the images subdirectory and its subdirectories\n",
    "for root, dirs, files in os.walk(images_dir):\n",
    "    for file in files:\n",
    "        if file.endswith('.png') or file.endswith('.csv') or file.endswith('.txt'):\n",
    "            os.remove(os.path.join(root, file))\n",
    "\n",
    "# Delete everything in the output directory\n",
    "for file in os.listdir(output_dir):\n",
    "    file_path = os.path.join(output_dir, file)\n",
    "    if os.path.isfile(file_path) or os.path.islink(file_path):\n",
    "        os.unlink(file_path)\n",
    "    elif os.path.isdir(file_path):\n",
    "        os.rmdir(file_path)\n",
    "\n",
    "# Delete everything in the metadata directory\n",
    "for file in os.listdir(metadata_dir):\n",
    "    file_path = os.path.join(metadata_dir, file)\n",
    "    if os.path.isfile(file_path) or os.path.islink(file_path):\n",
    "        os.unlink(file_path)\n",
    "    elif os.path.isdir(file_path):\n",
    "        os.rmdir(file_path)"
   ]
  },
  {
   "cell_type": "code",
   "execution_count": null,
   "metadata": {},
   "outputs": [],
   "source": []
  }
 ],
 "metadata": {
  "kernelspec": {
   "display_name": "gapEnv",
   "language": "python",
   "name": "python3"
  },
  "language_info": {
   "codemirror_mode": {
    "name": "ipython",
    "version": 3
   },
   "file_extension": ".py",
   "mimetype": "text/x-python",
   "name": "python",
   "nbconvert_exporter": "python",
   "pygments_lexer": "ipython3",
   "version": "3.11.0"
  }
 },
 "nbformat": 4,
 "nbformat_minor": 2
}
