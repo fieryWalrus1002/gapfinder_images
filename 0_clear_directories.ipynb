{
 "cells": [
  {
   "cell_type": "markdown",
   "metadata": {},
   "source": [
    "# Deleting existing files\n",
    "\n",
    "If you want to clear out the existing images and start over, run this!\n",
    "\n",
    "The images subdirectory has a number of folders. We can look through them and delete all png files, and all csv files.\n",
    "\n",
    "Then delete everything in the output directory, and the metadata directory."
   ]
  },
  {
   "cell_type": "code",
   "execution_count": null,
   "metadata": {},
   "outputs": [],
   "source": [
    "import os\n",
    "import glob\n",
    "\n",
    "# Define directories\n",
    "images_dir = 'images'\n",
    "output_dir = 'output'\n",
    "metadata_dir = 'metadata'\n",
    "\n",
    "# Delete all .png and .csv files in the images subdirectory\n",
    "for folder in os.listdir(images_dir):\n",
    "    folder_path = os.path.join(images_dir, folder)\n",
    "    if os.path.isdir(folder_path):\n",
    "        for file in glob.glob(os.path.join(folder_path, '*.png')) + glob.glob(os.path.join(folder_path, '*.csv')):\n",
    "            os.remove(file)\n",
    "\n",
    "# Delete everything in the output directory\n",
    "for file in os.listdir(output_dir):\n",
    "    file_path = os.path.join(output_dir, file)\n",
    "    if os.path.isfile(file_path) or os.path.islink(file_path):\n",
    "        os.unlink(file_path)\n",
    "    elif os.path.isdir(file_path):\n",
    "        os.rmdir(file_path)\n",
    "\n",
    "# Delete everything in the metadata directory\n",
    "for file in os.listdir(metadata_dir):\n",
    "    file_path = os.path.join(metadata_dir, file)\n",
    "    if os.path.isfile(file_path) or os.path.islink(file_path):\n",
    "        os.unlink(file_path)\n",
    "    elif os.path.isdir(file_path):\n",
    "        os.rmdir(file_path)"
   ]
  },
  {
   "cell_type": "code",
   "execution_count": null,
   "metadata": {
    "vscode": {
     "languageId": "plaintext"
    }
   },
   "outputs": [],
   "source": []
  }
 ],
 "metadata": {
  "language_info": {
   "name": "python"
  }
 },
 "nbformat": 4,
 "nbformat_minor": 2
}
