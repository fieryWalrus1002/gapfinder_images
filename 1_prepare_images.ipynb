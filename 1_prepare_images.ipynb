{
 "cells": [
  {
   "cell_type": "code",
   "execution_count": null,
   "metadata": {},
   "outputs": [],
   "source": [
    "from gapfinder.convert import convert_tif_to_png\n",
    "import os"
   ]
  },
  {
   "cell_type": "markdown",
   "metadata": {},
   "source": [
    "# convert the files from the tif format to the png format\n",
    "\n",
    "The images should be placed into folders like the examples"
   ]
  },
  {
   "cell_type": "code",
   "execution_count": null,
   "metadata": {},
   "outputs": [],
   "source": [
    "input_folder = \"./images/tif_images\"\n",
    "output_folder = \"./images/raw_images\""
   ]
  },
  {
   "cell_type": "code",
   "execution_count": null,
   "metadata": {},
   "outputs": [],
   "source": [
    "# Extract metadata from folder structure\n",
    "# images\\tif_images\\Wild Type - 500uE 1 hour\\2022-1-10\\Block 1\\13 WT-500uE 29k.tif\n",
    "# genotype_condition would be: ['Wild Type', '500uE 1 hour']\n",
    "# genotype would be: 'Wild Type'\n",
    "# condition would be: '500uE 1 hour'\n",
    "# date would be: '2022-1-10'\n",
    "# block would be: '1'\n",
    "# layer_number would be: '13'    \n",
    "# k_value would be: '29'\n",
    "    \n",
    "convert_tif_to_png(input_folder, output_folder, csv_filename='./metadata/image_index.csv')"
   ]
  },
  {
   "cell_type": "markdown",
   "metadata": {},
   "source": [
    "# select the grana locations of interest\n",
    "\n",
    "Select the grana centroids by running the next block. It will create a popup, and allow you to cycle through the images and select the grana centroids. The data will be saved in the `centroids.csv` file in the input image folder.\n",
    "\n",
    "Available commands:\n",
    "* n (or tab, or t): Move to the next image, saving the ROI list for this image.\n",
    "* r (or e): Reset the current image and remove the ROIs.\n",
    "* q: Quit the program and save the ROI data processed for all images so far."
   ]
  },
  {
   "cell_type": "code",
   "execution_count": null,
   "metadata": {},
   "outputs": [],
   "source": [
    "from gapfinder.grana_selection import process_images\n",
    "import os\n",
    "\n",
    "input_folder = './images/raw_images'\n",
    "output_filename = 'centroids.csv'\n",
    "verbose = True\n",
    "append = False\n",
    "\n",
    "# delete the existing centroids? Or append to them?\n",
    "if (append == False):\n",
    "    if os.path.exists(output_filename):\n",
    "        os.remove(output_filename)\n",
    "\n",
    "process_images(input_folder, output_filename, verbose)"
   ]
  },
  {
   "cell_type": "markdown",
   "metadata": {},
   "source": [
    "# Use the centroids to extract a region of interest around that point\n",
    "\n",
    "The extract_strips_from_images takes the centroids and extracts a region of interest around that point. The region of interest is a square of size `size` centered at the centroid. The extracted images are saved in the `rough_rois` folder in the input image folder. If the region of interest would go outside the image, the image is skipped."
   ]
  },
  {
   "cell_type": "code",
   "execution_count": null,
   "metadata": {},
   "outputs": [],
   "source": [
    "from gapfinder.strip_extraction import extract_strips_from_images\n",
    "\n",
    "raw_images_folder = './images/raw_images'\n",
    "centroids_csv = f\"{raw_images_folder}/centroids.csv\"\n",
    "rough_rois_images_folder = './images/rough_roi_images'\n",
    "\n",
    "extract_strips_from_images(centroids_csv, raw_images_folder, rough_rois_images_folder, size=200)"
   ]
  },
  {
   "cell_type": "markdown",
   "metadata": {},
   "source": [
    "# Rotate the roi images to align the grana\n",
    "\n",
    "This requires a human's input. The images are displayed, and the user can rotate the image to align the grana. The rotated images are saved in the `rotated` folder in the input image folder, and will be used later by the scripts.\n",
    "\n",
    "Available commands:\n",
    "* s: Save the current rotation and move to the next image.\n",
    "* r: Reset the current image and remove the line.\n",
    "* q: Quit the program and save the rotation angles processed so far.\n",
    "* h: Display this help message again."
   ]
  },
  {
   "cell_type": "code",
   "execution_count": null,
   "metadata": {},
   "outputs": [],
   "source": [
    "from gapfinder.strip_rotation import rotate_strips\n",
    "import os\n",
    "\n",
    "# Call the function with the desired arguments\n",
    "input_folder = './images/rough_roi_images'\n",
    "output_folder = './images/rotated_images'\n",
    "rotation_file = 'rotation_angles.txt'\n",
    "append = False\n",
    "\n",
    "if (append == False):\n",
    "    existing_data_path = os.path.join(output_folder, rotation_file)\n",
    "    if os.path.exists(existing_data_path):\n",
    "        os.remove(existing_data_path)\n",
    "\n",
    "rotate_strips(input_folder, output_folder, rotation_file)"
   ]
  },
  {
   "cell_type": "markdown",
   "metadata": {},
   "source": [
    "# After rotation, apply that rotation to the original images and extract context regions\n",
    "\n",
    "This function will iterate through the centers of the rough rois and rotation angles that you created, and re-extract the regions of interest from the original images. Only centroids that have a rotation angle will be processed. The extracted images are saved in the `rotated_images` folder in the image folder.\n",
    "\n",
    "The steps are:\n",
    "\n",
    "1. Load the original image.\n",
    "2. Shift the image so the grana of choice is centered in the image.\n",
    "3. Rotate the image by the rotation angle around the center.\n",
    "4. Extract a region of interest around the grana, using a box. This will be padded with the `box_size` parameter.\n",
    "5. Save the extracted images in `./images/rotated_images` to be used later, overwriting the previous images.\n"
   ]
  },
  {
   "cell_type": "code",
   "execution_count": null,
   "metadata": {},
   "outputs": [],
   "source": [
    "from gapfinder.context_extraction import extract_rotated_context_image, collate_centroids_and_rotation\n",
    "\n",
    "\n",
    "input_folder = './images/raw_images'\n",
    "output_folder = './images/rotated_images'\n",
    "rough_rois_csv = \"./images/rough_roi_images/strip_metadata.csv\"\n",
    "rotation_file = f\"{output_folder}/rotation_angles.txt\"\n",
    "output_csv = f\"{output_folder}/context_metadata.csv\"\n",
    "\n",
    "collated_metadata = collate_centroids_and_rotation(rough_rois_csv, rotation_file)\n",
    "\n",
    "extract_rotated_context_image(input_folder, output_folder, collated_metadata, output_csv, box_size=600)"
   ]
  },
  {
   "cell_type": "markdown",
   "metadata": {},
   "source": [
    "# Draw the boundaries of the ROI images\n",
    "\n",
    "This requires a human's input. The images are displayed, and the user can draw the boundaries of the grana. The images are saved in the `boundaries` folder in the input image folder, and will be used later by the scripts. \n",
    "\n",
    "Notes:\n",
    "1. Allow some stroma to be included in the upper and lower boundary. This aids the find_peaks algorithm.\n",
    "2. If you provide an 'roi_width' parameter greater than 0, the script will force the described width for the ROI. This is useful if want to set a fixed width for the ROI, instead of drawing it manually.\n",
    "\n",
    "Available commands:\n",
    "* s: Save the current boundary and move to the next image.\n",
    "* a: Rotate the image counterclockwise by 0.5 degrees.\n",
    "* d: Rotate the image clockwise by 0.5 degree.\n",
    "* n: Move to the next image, without saving the current boundary.\n",
    "* r: Reset the current image to the original image, removing the boundary and the rotation.\n",
    "* q: Quit the program and save the boundaries processed so far, exporting the sliced roi images."
   ]
  },
  {
   "cell_type": "code",
   "execution_count": null,
   "metadata": {
    "scrolled": true
   },
   "outputs": [],
   "source": [
    "from gapfinder.roi_boundaries import select_rois\n",
    "import os\n",
    "\n",
    "input_folder = './images/rotated_images'\n",
    "output_folder = './images/roi_images'\n",
    "roi_metadata_csv = f\"{output_folder}/roi_metadata.csv\"\n",
    "metadata_file = f\"{input_folder}/context_metadata.csv\"\n",
    "roi_width = 60\n",
    "\n",
    "append = True\n",
    "\n",
    "if (append == False):\n",
    "    if os.path.exists(roi_metadata_csv):\n",
    "        os.remove(roi_metadata_csv)\n",
    "\n",
    "select_rois(input_folder, output_folder, roi_metadata_csv, metadata_file, roi_width=roi_width)"
   ]
  },
  {
   "cell_type": "code",
   "execution_count": null,
   "metadata": {},
   "outputs": [],
   "source": []
  }
 ],
 "metadata": {
  "kernelspec": {
   "display_name": ".venv",
   "language": "python",
   "name": "python3"
  },
  "language_info": {
   "codemirror_mode": {
    "name": "ipython",
    "version": 3
   },
   "file_extension": ".py",
   "mimetype": "text/x-python",
   "name": "python",
   "nbconvert_exporter": "python",
   "pygments_lexer": "ipython3",
   "version": "3.12.7"
  }
 },
 "nbformat": 4,
 "nbformat_minor": 4
}
