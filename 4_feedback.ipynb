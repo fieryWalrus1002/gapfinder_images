{
 "cells": [
  {
   "cell_type": "code",
   "execution_count": 1,
   "metadata": {},
   "outputs": [],
   "source": [
    "from gapfinder.feedback import create_roi_vs_contours_images\n",
    "\n",
    "# get the contents of the poi folder, but only the folder names\n",
    "poi_folder = f\"./output/processed_images\"\n",
    "roi_folder = f\"./images/roi_images\"\n",
    "metadata_csv = f\"{roi_folder}/roi_metadata.csv\"\n",
    "clear_existing = True\n",
    "\n",
    "create_roi_vs_contours_images( metadata_csv, roi_folder, poi_folder, clear_existing)"
   ]
  },
  {
   "cell_type": "code",
   "execution_count": 2,
   "metadata": {},
   "outputs": [
    {
     "name": "stdout",
     "output_type": "stream",
     "text": [
      "hello\n"
     ]
    }
   ],
   "source": [
    "print(\"hello\")"
   ]
  }
 ],
 "metadata": {
  "kernelspec": {
   "display_name": "gapEnv",
   "language": "python",
   "name": "python3"
  },
  "language_info": {
   "codemirror_mode": {
    "name": "ipython",
    "version": 3
   },
   "file_extension": ".py",
   "mimetype": "text/x-python",
   "name": "python",
   "nbconvert_exporter": "python",
   "pygments_lexer": "ipython3",
   "version": "3.11.0"
  }
 },
 "nbformat": 4,
 "nbformat_minor": 2
}
