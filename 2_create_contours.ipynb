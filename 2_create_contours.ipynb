{
 "cells": [
  {
   "cell_type": "markdown",
   "metadata": {},
   "source": [
    "# Create masks from the roi images\n",
    "\n",
    "Uses Otsu thresholding to create masks from the roi images, with a few additional steps to clean up the masks. You can add other thresholding methods by adding them to the `th_method_keys' list in the options dictionary.\n",
    "\n",
    "A set of masks will be created for each combination of the parameters defined in the options dictionary. The masks will be saved in the output directory, with each combination of parameters in a separate subdirectory. \n",
    "\n",
    "They are given a name consisting of an index number and the threshold method used. You can then reference what parameters were used to create the mask by looking in the index file that will be produced when this script is run.\n",
    "\n"
   ]
  },
  {
   "cell_type": "code",
   "execution_count": null,
   "metadata": {},
   "outputs": [],
   "source": [
    "import numpy as np\n",
    "from gapfinder.masks import create_threshold_metadata\n",
    "\n",
    "# threshold_function_keys = [\"otsuOffset\", \"otsu\", \"simple\", \"trunc\", \"tozero\", \"adaptive\", \"adaptive_gaussian\"]\n",
    "\n",
    "options = {\n",
    "        \"th_method_keys\": [\"otsuOffset\"],\n",
    "        \"morph_keys\": [\"closeOpen\"],\n",
    "        \"morph_args\": [{\n",
    "            \"name\": \"closeOpen\",\n",
    "            \"closing_kernel\": np.ones((1, 7), np.uint8),\n",
    "            \"opening_kernel\": np.ones((1, 5), np.uint8),\n",
    "            \"closing_iterations\": 1,\n",
    "            \"opening_iterations\": 1\n",
    "        }],\n",
    "        \"thresh_levels\": [100], # the initial threshold value to use, not used for Otsu\n",
    "        \"maxval_levels\": [255], # the maximum intensity value that can be assigned to a pixel\n",
    "        \"opts_equalize\": [True, False], # whether to equalize the image before thresholding\n",
    "        \"opts_blur\": [True, False], # whether to blur the image before thresholding\n",
    "        \"blocksize_levels\": [25], # an odd number, using for the moving window in adaptive thresholding, default is 25\n",
    "        \"c_levels\": [2], # a value subtracted from the weighted sum during the adaptive thresholding, default is 2\n",
    "        \"offset_values\": [1.0, 1.18, 1.2] # a value to multiply the Otsu threshold by to get our new threshold\n",
    "    }\n",
    "\n",
    "output_folder = \"./output\"\n",
    "image_dir = \"./images/roi_images\"\n",
    "roi_metadata_path = f\"{image_dir}/roi_metadata.csv\"\n",
    "mask_path = f\"{output_folder}/masks/\"\n",
    "\n",
    "th_metadata = create_threshold_metadata(base_path=output_folder, image_dir=image_dir, roi_metadata_path=roi_metadata_path, options=options)\n",
    "\n",
    "print(f\"Created {len(th_metadata)} threshold metadata files\")"
   ]
  },
  {
   "cell_type": "code",
   "execution_count": null,
   "metadata": {},
   "outputs": [],
   "source": [
    "from gapfinder.masks import create_masks\n",
    "\n",
    "create_masks(base_path=output_folder, image_dir=image_dir, roi_metadata_path=roi_metadata_path, all_th_metadata=th_metadata)"
   ]
  },
  {
   "cell_type": "markdown",
   "metadata": {},
   "source": [
    "# Create the contours from the masks"
   ]
  },
  {
   "cell_type": "code",
   "execution_count": null,
   "metadata": {},
   "outputs": [],
   "source": [
    "from gapfinder.contours import create_contours\n",
    "\n",
    "output_path = \"./output\"\n",
    "masks_path = f\"{output_path}/masks\"\n",
    "roi_image_path = \"./images/roi_images\"\n",
    "\n",
    "create_contours(masks_path, roi_image_path, output_path)"
   ]
  }
 ],
 "metadata": {
  "kernelspec": {
   "display_name": ".venv",
   "language": "python",
   "name": "python3"
  },
  "language_info": {
   "codemirror_mode": {
    "name": "ipython",
    "version": 3
   },
   "file_extension": ".py",
   "mimetype": "text/x-python",
   "name": "python",
   "nbconvert_exporter": "python",
   "pygments_lexer": "ipython3",
   "version": "3.12.7"
  }
 },
 "nbformat": 4,
 "nbformat_minor": 2
}
