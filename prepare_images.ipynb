{
 "cells": [
  {
   "cell_type": "code",
   "execution_count": 1,
   "metadata": {},
   "outputs": [],
   "source": [
    "from gapfinder.convert import convert_tif_to_png\n",
    "import os"
   ]
  },
  {
   "cell_type": "markdown",
   "metadata": {},
   "source": [
    "# convert the files from the tif format to the png format\n",
    "\n",
    "The images should be placed into folders like the examples"
   ]
  },
  {
   "cell_type": "code",
   "execution_count": 2,
   "metadata": {},
   "outputs": [],
   "source": [
    "input_folder = \"./images/tif_images\"\n",
    "output_folder = \"./images/raw_images\""
   ]
  },
  {
   "cell_type": "code",
   "execution_count": null,
   "metadata": {},
   "outputs": [],
   "source": [
    "# Extract metadata from folder structure\n",
    "# images\\tif_images\\Wild Type - 500uE 1 hour\\2022-1-10\\Block 1\\13 WT-500uE 29k.tif\n",
    "# genotype_condition would be: ['Wild Type', '500uE 1 hour']\n",
    "# genotype would be: 'Wild Type'\n",
    "# condition would be: '500uE 1 hour'\n",
    "# date would be: '2022-1-10'\n",
    "# block would be: '1'\n",
    "# layer_number would be: '13'    \n",
    "# k_value would be: '29'\n",
    "    \n",
    "convert_tif_to_png(input_folder, output_folder, csv_filename='./metadata/image_index.csv')"
   ]
  },
  {
   "cell_type": "markdown",
   "metadata": {},
   "source": [
    "# select the grana locations of interest\n",
    "\n",
    "Select the grana centroids by running the next block. It will create a popup, and allow you to cycle through the images and select the grana centroids. The data will be saved in the `centroids.csv` file in the input image folder.\n",
    "\n",
    "Available commands:\n",
    "* n (or tab, or t): Move to the next image, saving the ROI list for this image.\n",
    "* r (or e): Reset the current image and remove the ROIs.\n",
    "* q: Quit the program and save the ROI data processed for all images so far."
   ]
  },
  {
   "cell_type": "code",
   "execution_count": null,
   "metadata": {},
   "outputs": [],
   "source": [
    "from gapfinder.grana_selection import process_images\n",
    "\n",
    "input_folder = './images/raw_images'\n",
    "output_filename = 'centroids.csv'\n",
    "verbose = True\n",
    "append = False\n",
    "\n",
    "# delete the existing centroids? Or append to them?\n",
    "if (append == False):\n",
    "    if os.path.exists(output_filename):\n",
    "        os.remove(output_filename)\n",
    "\n",
    "process_images(input_folder, output_filename, verbose)"
   ]
  },
  {
   "cell_type": "markdown",
   "metadata": {},
   "source": [
    "# Use the centroids to extract a region of interest around that point\n",
    "\n",
    "The extract_strips_from_images takes the centroids and extracts a region of interest around that point. The region of interest is a square of size `size` centered at the centroid. The extracted images are saved in the `strips` folder in the input image folder. If the region of interest would go outside the image, the image is skipped."
   ]
  },
  {
   "cell_type": "code",
   "execution_count": null,
   "metadata": {},
   "outputs": [],
   "source": [
    "from gapfinder.strip_extraction import extract_strips_from_images\n",
    "\n",
    "raw_images_folder = './images/raw_images'\n",
    "centroids_csv = f\"{raw_images_folder}/centroids.csv\"\n",
    "strip_images_folder = './images/strip_images'\n",
    "\n",
    "extract_strips_from_images(centroids_csv, raw_images_folder, strip_images_folder, size=200)"
   ]
  },
  {
   "cell_type": "markdown",
   "metadata": {},
   "source": [
    "# Rotate the roi images to align the grana\n",
    "\n",
    "This requires a human's input. The images are displayed, and the user can rotate the image to align the grana. The rotated images are saved in the `rotated` folder in the input image folder, and will be used later by the scripts.\n",
    "\n",
    "Available commands:\n",
    "* s: Save the current rotation and move to the next image.\n",
    "* r: Reset the current image and remove the line.\n",
    "* q: Quit the program and save the rotation angles processed so far.\n",
    "* h: Display this help message again."
   ]
  },
  {
   "cell_type": "code",
   "execution_count": null,
   "metadata": {},
   "outputs": [],
   "source": [
    "from gapfinder.strip_rotation import rotate_strips\n",
    "\n",
    "# Call the function with the desired arguments\n",
    "input_folder = './images/strip_images'\n",
    "output_folder = './images/rotated_images'\n",
    "rotation_file = 'rotation_angles.txt'\n",
    "\n",
    "rotate_strips(input_folder, output_folder, rotation_file)"
   ]
  },
  {
   "cell_type": "markdown",
   "metadata": {},
   "source": [
    "# After rotation, select the roi boundaries\n",
    "\n",
    "Iterate through the rotated images, selecting the region boundaries. This data will be saved in the output file specified. \n",
    "\n",
    "* Press 's', 'Tab', or '9' to save the ROI coordinates and move to the next image.\n",
    "* Press 'n' to skip to the next image.\n",
    "* Press 'r' to reset the current image, erasing the roi rectangle.\n",
    "* Press 'q' to quit the program.\n",
    "* Press 'h' to display these hints."
   ]
  },
  {
   "cell_type": "code",
   "execution_count": null,
   "metadata": {},
   "outputs": [],
   "source": [
    "from gapfinder.roi_boundaries import select_rois\n",
    "\n",
    "# Call the function with the desired arguments\n",
    "image_folder = './images/rotated_images'\n",
    "rotation_file = './images/rotated_images/rotation_angles.txt'\n",
    "metadata_file = './images/strip_images/strip_metadata.csv'\n",
    "output_file = './metadata/roi_metadata.csv'\n",
    "roi_context_dir = './images/roi_images_context'\n",
    "\n",
    "select_rois(image_folder, rotation_file, metadata_file, output_file, roi_context_dir)"
   ]
  },
  {
   "cell_type": "markdown",
   "metadata": {},
   "source": [
    "# After selecting the roi boundaries, extract the roi from the original png images\n",
    "\n",
    "The extract_rois_from_images script extracts the roi from the original images. The roi is saved in the `rois` folder in the input image folder."
   ]
  },
  {
   "cell_type": "code",
   "execution_count": 2,
   "metadata": {},
   "outputs": [
    {
     "name": "stdout",
     "output_type": "stream",
     "text": [
      "Processing completed. New ROI metadata saved to './metadata/roi_metadata_2.csv'\n"
     ]
    }
   ],
   "source": [
    "from gapfinder.roi_extraction import extract_rois\n",
    "\n",
    "roi_metadata_csv = './metadata/roi_metadata.csv'\n",
    "output_roi_metadata = './metadata/roi_metadata_2.csv'\n",
    "rotated_images_folder = './images/rotated_images'\n",
    "output_folder = './images/roi_images'\n",
    "\n",
    "extract_rois(roi_metadata_csv, output_roi_metadata, rotated_images_folder, output_folder)"
   ]
  }
 ],
 "metadata": {
  "kernelspec": {
   "display_name": ".venv",
   "language": "python",
   "name": "python3"
  },
  "language_info": {
   "codemirror_mode": {
    "name": "ipython",
    "version": 3
   },
   "file_extension": ".py",
   "mimetype": "text/x-python",
   "name": "python",
   "nbconvert_exporter": "python",
   "pygments_lexer": "ipython3",
   "version": "3.12.6"
  }
 },
 "nbformat": 4,
 "nbformat_minor": 2
}
