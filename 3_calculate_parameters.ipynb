{
 "cells": [
  {
   "cell_type": "markdown",
   "metadata": {},
   "source": [
    "# Extract the scale data from the original raw images\n",
    "\n",
    "We need to be able to convert the pixel values in the raw images to the actual scale values. This function will extract the scale data from the raw images using the 'py-tesseract' library, which does OCR (Optical Character Recognition) on the black and white scale bar on the bottom of the TEM images.\n",
    "\n",
    "If verify is true, the extracted scale data will be displayed on the image, and saved into the ./images/scale_bars/verified folder.\n",
    "\n",
    "The csv file will be saved to the filename you specify."
   ]
  },
  {
   "cell_type": "code",
   "execution_count": null,
   "metadata": {},
   "outputs": [],
   "source": [
    "from gapfinder.scale import extract_scale_conversion_metadata\n",
    "\n",
    "input_folder = './images/raw_images'\n",
    "output_folder = './images/scale_bars'\n",
    "csv_filename = './metadata/image_scale_conversion.csv'\n",
    "\n",
    "extract_scale_conversion_metadata(input_folder, output_folder, csv_filename, verify=True)"
   ]
  },
  {
   "cell_type": "markdown",
   "metadata": {},
   "source": [
    "# Use the conversion data and the contours to calculate membrane/lumen widths, repeat distance, etc"
   ]
  },
  {
   "cell_type": "code",
   "execution_count": 2,
   "metadata": {},
   "outputs": [
    {
     "name": "stdout",
     "output_type": "stream",
     "text": [
      "Deleted existing grana data files\n",
      "Found 42 grana data items for 0_otsuOffset\n",
      "Saving membrane data to ./output/processed_images/0_otsuOffset/grana_data_membrane.csv\n",
      "Saving lumen data to ./output/processed_images/0_otsuOffset/grana_data_lumen.csv\n",
      "Found 42 grana data items for 10_otsuOffset\n",
      "Saving membrane data to ./output/processed_images/10_otsuOffset/grana_data_membrane.csv\n",
      "Saving lumen data to ./output/processed_images/10_otsuOffset/grana_data_lumen.csv\n",
      "Found 42 grana data items for 11_otsuOffset\n",
      "Saving membrane data to ./output/processed_images/11_otsuOffset/grana_data_membrane.csv\n",
      "Saving lumen data to ./output/processed_images/11_otsuOffset/grana_data_lumen.csv\n",
      "Found 42 grana data items for 1_otsuOffset\n",
      "Saving membrane data to ./output/processed_images/1_otsuOffset/grana_data_membrane.csv\n",
      "Saving lumen data to ./output/processed_images/1_otsuOffset/grana_data_lumen.csv\n",
      "Found 42 grana data items for 2_otsuOffset\n",
      "Saving membrane data to ./output/processed_images/2_otsuOffset/grana_data_membrane.csv\n",
      "Saving lumen data to ./output/processed_images/2_otsuOffset/grana_data_lumen.csv\n",
      "Found 42 grana data items for 3_otsuOffset\n",
      "Saving membrane data to ./output/processed_images/3_otsuOffset/grana_data_membrane.csv\n",
      "Saving lumen data to ./output/processed_images/3_otsuOffset/grana_data_lumen.csv\n",
      "Found 42 grana data items for 4_otsuOffset\n",
      "Saving membrane data to ./output/processed_images/4_otsuOffset/grana_data_membrane.csv\n",
      "Saving lumen data to ./output/processed_images/4_otsuOffset/grana_data_lumen.csv\n",
      "Found 42 grana data items for 5_otsuOffset\n",
      "Saving membrane data to ./output/processed_images/5_otsuOffset/grana_data_membrane.csv\n",
      "Saving lumen data to ./output/processed_images/5_otsuOffset/grana_data_lumen.csv\n",
      "Found 42 grana data items for 6_otsuOffset\n",
      "Saving membrane data to ./output/processed_images/6_otsuOffset/grana_data_membrane.csv\n",
      "Saving lumen data to ./output/processed_images/6_otsuOffset/grana_data_lumen.csv\n",
      "No peaks found for output\\processed_images\\7_otsuOffset\\membrane\\strip_47.png\n",
      "Error processing peak data for process: 7_otsuOffset on image: output\\processed_images\\7_otsuOffset\\membrane\\strip_47.png\n",
      "Found 41 grana data items for 7_otsuOffset\n",
      "Saving membrane data to ./output/processed_images/7_otsuOffset/grana_data_membrane.csv\n",
      "Saving lumen data to ./output/processed_images/7_otsuOffset/grana_data_lumen.csv\n",
      "More membrane peaks than lumen peaks for output\\processed_images\\8_otsuOffset\\membrane\\strip_47.png, skipping\n",
      "Membrane peaks: 8\n",
      "Lumen peaks: 8\n",
      "More membrane peaks than lumen peaks for output\\processed_images\\8_otsuOffset\\membrane\\strip_51.png, skipping\n",
      "Membrane peaks: 3\n",
      "Lumen peaks: 4\n",
      "More membrane peaks than lumen peaks for output\\processed_images\\8_otsuOffset\\membrane\\strip_56.png, skipping\n",
      "Membrane peaks: 4\n",
      "Lumen peaks: 4\n",
      "Found 39 grana data items for 8_otsuOffset\n",
      "Saving membrane data to ./output/processed_images/8_otsuOffset/grana_data_membrane.csv\n",
      "Saving lumen data to ./output/processed_images/8_otsuOffset/grana_data_lumen.csv\n",
      "Found 42 grana data items for 9_otsuOffset\n",
      "Saving membrane data to ./output/processed_images/9_otsuOffset/grana_data_membrane.csv\n",
      "Saving lumen data to ./output/processed_images/9_otsuOffset/grana_data_lumen.csv\n"
     ]
    }
   ],
   "source": [
    "from gapfinder.data_processing import calculate_contour_parameters\n",
    "\n",
    "clear_existing = True\n",
    "\n",
    "output_folder = './output'\n",
    "contour_base_path = './output/processed_images'\n",
    "metadata_filename = './images/roi_images/roi_metadata.csv'\n",
    "conversion_df_filename = './metadata/image_scale_conversion.csv'\n",
    "\n",
    "min_lumen_width = 0.5\n",
    "min_lumen_peak_distance = 1\n",
    "\n",
    "min_membrane_width = 0.5\n",
    "min_membrane_peak_distance = 1\n",
    "\n",
    "# can split membrane w/ identical width if they are over this distance apart\n",
    "max_membrane_width = 16.0\n",
    "\n",
    "calculate_contour_parameters(\n",
    "    contour_base_path,\n",
    "    output_folder,\n",
    "    metadata_filename,\n",
    "    conversion_df_filename,\n",
    "    min_lumen_width=min_lumen_width,\n",
    "    min_lumen_peak_distance=min_lumen_peak_distance,\n",
    "    min_membrane_width=min_membrane_width,\n",
    "    min_membrane_peak_distance=min_membrane_peak_distance,\n",
    "    max_membrane_width=max_membrane_width,\n",
    "    clear_existing=clear_existing\n",
    ")"
   ]
  },
  {
   "cell_type": "code",
   "execution_count": 2,
   "metadata": {},
   "outputs": [
    {
     "name": "stdout",
     "output_type": "stream",
     "text": [
      "process_names: ['0_otsuOffset', '10_otsuOffset', '11_otsuOffset', '1_otsuOffset', '2_otsuOffset', '3_otsuOffset', '4_otsuOffset', '5_otsuOffset', '6_otsuOffset', '7_otsuOffset', '8_otsuOffset', '9_otsuOffset']\n",
      "First few entries of 'lumen_width':\n",
      "0    1.833333\n",
      "1    1.000000\n",
      "2    4.237537\n",
      "3    5.373866\n",
      "4    6.101626\n",
      "Name: lumen_width, dtype: float64\n",
      "\n",
      "Data types in 'lumen_width' column:\n",
      "[<class 'float'>]\n",
      "\n",
      "Number of NaN values in 'lumen_width': 0\n",
      "\n",
      "Data type of 'lumen_width' after conversion:\n",
      "float64\n",
      "\n",
      "First few results:\n",
      "   lumen_width  nm_per_px  lumen_width_nm\n",
      "0     1.833333   0.760456        1.394170\n",
      "1     1.000000   0.760456        0.760456\n",
      "2     4.237537   0.760456        3.222461\n",
      "3     5.373866   0.760456        4.086590\n",
      "4     6.101626   0.760456        4.640020\n",
      "lumen_df shape: (4197, 16)\n",
      "membrane_df shape: (4658, 17)\n",
      "saved data: ./output/lumen.csv and ./output/membrane.csv\n"
     ]
    }
   ],
   "source": [
    "# combine the data from all the images\n",
    "from gapfinder.data_processing import combine_data_files\n",
    "\n",
    "base_path = './output'\n",
    "processed_image_path = './output/processed_images'\n",
    "output_folder = './output'\n",
    "\n",
    "# @todo: may need to filter out the mini peaks BEFORE we do the splitting of the big peaks?\n",
    "# currently it looks for the big peaks, trys to split them, then we filter out the mini peaks\n",
    "# maybe we need to do this earlier in the process\n",
    "combine_data_files(base_path, processed_image_path, output_folder)"
   ]
  },
  {
   "cell_type": "markdown",
   "metadata": {},
   "source": [
    "# create the "
   ]
  }
 ],
 "metadata": {
  "kernelspec": {
   "display_name": ".venv",
   "language": "python",
   "name": "python3"
  },
  "language_info": {
   "codemirror_mode": {
    "name": "ipython",
    "version": 3
   },
   "file_extension": ".py",
   "mimetype": "text/x-python",
   "name": "python",
   "nbconvert_exporter": "python",
   "pygments_lexer": "ipython3",
   "version": "3.12.7"
  }
 },
 "nbformat": 4,
 "nbformat_minor": 2
}
